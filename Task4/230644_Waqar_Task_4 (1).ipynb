{
  "nbformat": 4,
  "nbformat_minor": 0,
  "metadata": {
    "colab": {
      "provenance": []
    },
    "kernelspec": {
      "name": "python3",
      "display_name": "Python 3"
    },
    "language_info": {
      "name": "python"
    }
  },
  "cells": [
    {
      "cell_type": "code",
      "execution_count": 2,
      "metadata": {
        "id": "ak7GOUIzFK0n"
      },
      "outputs": [],
      "source": [
        "import os\n",
        "import numpy as np\n",
        "import tensorflow as tf\n",
        "from tensorflow.keras.preprocessing.image import load_img, img_to_array\n",
        "from sklearn.model_selection import train_test_split\n",
        "\n",
        "train_image_folder = '/content/drive/MyDrive/image'\n",
        "train_label_folder = '/content/drive/MyDrive/label'\n",
        "test_image_folder = '/content/drive/MyDrive/test'\n",
        "\n",
        "import cv2\n",
        "\n",
        "input_list = []\n",
        "output_list = []\n",
        "\n",
        "for dirname, _, filenames in os.walk(train_image_folder):\n",
        "    for filename in filenames:\n",
        "        train_file_img = os.path.join(dirname, filename)\n",
        "        train_label_img = os.path.join(train_label_folder,filename)\n",
        "\n",
        "        image = cv2.imread(train_file_img,0)\n",
        "        image = cv2.resize(image, (256, 256))\n",
        "\n",
        "        image_features = image.astype('float32') / 255.0\n",
        "        input_list.append(image_features)\n",
        "\n",
        "        image = cv2.imread(train_label_img,0)\n",
        "        image = cv2.resize(image, (256, 256))\n",
        "        image_features = image.astype('float32') / 255.0\n",
        "        output_list.append(image_features)"
      ]
    },
    {
      "cell_type": "code",
      "source": [
        "input_list = np.expand_dims(input_list, axis=-1)\n",
        "output_list = np.expand_dims(output_list, axis=-1)\n",
        "\n",
        "\n",
        "images = input_list\n",
        "masks = output_list\n",
        "images = np.array(images)\n",
        "masks = np.array(masks)\n",
        "\n",
        "X_train, y_train = images, masks"
      ],
      "metadata": {
        "id": "Q8WZvADRZB1B"
      },
      "execution_count": 3,
      "outputs": []
    },
    {
      "cell_type": "code",
      "source": [
        "from tensorflow.keras.layers import Input, Conv2D, MaxPooling2D, UpSampling2D, Concatenate\n",
        "from tensorflow.keras.models import Model\n",
        "\n",
        "def unet_model(input_size=(256, 256, 1)):\n",
        "    inputs = Input(input_size)\n",
        "\n",
        "    # Encoder\n",
        "    conv1 = Conv2D(64, 3, activation='relu', padding='same')(inputs)\n",
        "    conv1 = Conv2D(64, 3, activation='relu', padding='same')(conv1)\n",
        "    pool1 = MaxPooling2D(pool_size=(2, 2))(conv1)\n",
        "\n",
        "    conv2 = Conv2D(128, 3, activation='relu', padding='same')(pool1)\n",
        "    conv2 = Conv2D(128, 3, activation='relu', padding='same')(conv2)\n",
        "    pool2 = MaxPooling2D(pool_size=(2, 2))(conv2)\n",
        "\n",
        "    conv3 = Conv2D(256, 3, activation='relu', padding='same')(pool2)\n",
        "    conv3 = Conv2D(256, 3, activation='relu', padding='same')(conv3)\n",
        "    pool3 = MaxPooling2D(pool_size=(2, 2))(conv3)\n",
        "\n",
        "    conv4 = Conv2D(512, 3, activation='relu', padding='same')(pool3)\n",
        "    conv4 = Conv2D(512, 3, activation='relu', padding='same')(conv4)\n",
        "    pool4 = MaxPooling2D(pool_size=(2, 2))(conv4)\n",
        "\n",
        "    conv5 = Conv2D(1024, 3, activation='relu', padding='same')(pool4)\n",
        "    conv5 = Conv2D(1024, 3, activation='relu', padding='same')(conv5)\n",
        "\n",
        "    # Decoder\n",
        "    up6 = UpSampling2D(size=(2, 2))(conv5)\n",
        "    merge6 = Concatenate()([conv4, up6])\n",
        "    conv6 = Conv2D(512, 3, activation='relu', padding='same')(merge6)\n",
        "    conv6 = Conv2D(512, 3, activation='relu', padding='same')(conv6)\n",
        "\n",
        "    up7 = UpSampling2D(size=(2, 2))(conv6)\n",
        "    merge7 = Concatenate()([conv3, up7])\n",
        "    conv7 = Conv2D(256, 3, activation='relu', padding='same')(merge7)\n",
        "    conv7 = Conv2D(256, 3, activation='relu', padding='same')(conv7)\n",
        "\n",
        "    up8 = UpSampling2D(size=(2, 2))(conv7)\n",
        "    merge8 = Concatenate()([conv2, up8])\n",
        "    conv8 = Conv2D(128, 3, activation='relu', padding='same')(merge8)\n",
        "    conv8 = Conv2D(128, 3, activation='relu', padding='same')(conv8)\n",
        "\n",
        "    up9 = UpSampling2D(size=(2, 2))(conv8)\n",
        "    merge9 = Concatenate()([conv1, up9])\n",
        "    conv9 = Conv2D(64, 3, activation='relu', padding='same')(merge9)\n",
        "    conv9 = Conv2D(64, 3, activation='relu', padding='same')(conv9)\n",
        "\n",
        "    conv10 = Conv2D(1, 1, activation='sigmoid')(conv9)\n",
        "\n",
        "    model = Model(inputs, conv10)\n",
        "\n",
        "    model.compile(optimizer='adam', loss='binary_crossentropy', metrics=['accuracy'])\n",
        "\n",
        "    return model\n",
        "\n",
        "model = unet_model()\n",
        "model.summary()"
      ],
      "metadata": {
        "colab": {
          "base_uri": "https://localhost:8080/"
        },
        "id": "QZ-0IpP6Oa-S",
        "outputId": "b7cd1421-4fd5-4ed8-b372-3f1e4636012e"
      },
      "execution_count": 4,
      "outputs": [
        {
          "output_type": "stream",
          "name": "stdout",
          "text": [
            "Model: \"model\"\n",
            "__________________________________________________________________________________________________\n",
            " Layer (type)                Output Shape                 Param #   Connected to                  \n",
            "==================================================================================================\n",
            " input_1 (InputLayer)        [(None, 256, 256, 1)]        0         []                            \n",
            "                                                                                                  \n",
            " conv2d (Conv2D)             (None, 256, 256, 64)         640       ['input_1[0][0]']             \n",
            "                                                                                                  \n",
            " conv2d_1 (Conv2D)           (None, 256, 256, 64)         36928     ['conv2d[0][0]']              \n",
            "                                                                                                  \n",
            " max_pooling2d (MaxPooling2  (None, 128, 128, 64)         0         ['conv2d_1[0][0]']            \n",
            " D)                                                                                               \n",
            "                                                                                                  \n",
            " conv2d_2 (Conv2D)           (None, 128, 128, 128)        73856     ['max_pooling2d[0][0]']       \n",
            "                                                                                                  \n",
            " conv2d_3 (Conv2D)           (None, 128, 128, 128)        147584    ['conv2d_2[0][0]']            \n",
            "                                                                                                  \n",
            " max_pooling2d_1 (MaxPoolin  (None, 64, 64, 128)          0         ['conv2d_3[0][0]']            \n",
            " g2D)                                                                                             \n",
            "                                                                                                  \n",
            " conv2d_4 (Conv2D)           (None, 64, 64, 256)          295168    ['max_pooling2d_1[0][0]']     \n",
            "                                                                                                  \n",
            " conv2d_5 (Conv2D)           (None, 64, 64, 256)          590080    ['conv2d_4[0][0]']            \n",
            "                                                                                                  \n",
            " max_pooling2d_2 (MaxPoolin  (None, 32, 32, 256)          0         ['conv2d_5[0][0]']            \n",
            " g2D)                                                                                             \n",
            "                                                                                                  \n",
            " conv2d_6 (Conv2D)           (None, 32, 32, 512)          1180160   ['max_pooling2d_2[0][0]']     \n",
            "                                                                                                  \n",
            " conv2d_7 (Conv2D)           (None, 32, 32, 512)          2359808   ['conv2d_6[0][0]']            \n",
            "                                                                                                  \n",
            " max_pooling2d_3 (MaxPoolin  (None, 16, 16, 512)          0         ['conv2d_7[0][0]']            \n",
            " g2D)                                                                                             \n",
            "                                                                                                  \n",
            " conv2d_8 (Conv2D)           (None, 16, 16, 1024)         4719616   ['max_pooling2d_3[0][0]']     \n",
            "                                                                                                  \n",
            " conv2d_9 (Conv2D)           (None, 16, 16, 1024)         9438208   ['conv2d_8[0][0]']            \n",
            "                                                                                                  \n",
            " up_sampling2d (UpSampling2  (None, 32, 32, 1024)         0         ['conv2d_9[0][0]']            \n",
            " D)                                                                                               \n",
            "                                                                                                  \n",
            " concatenate (Concatenate)   (None, 32, 32, 1536)         0         ['conv2d_7[0][0]',            \n",
            "                                                                     'up_sampling2d[0][0]']       \n",
            "                                                                                                  \n",
            " conv2d_10 (Conv2D)          (None, 32, 32, 512)          7078400   ['concatenate[0][0]']         \n",
            "                                                                                                  \n",
            " conv2d_11 (Conv2D)          (None, 32, 32, 512)          2359808   ['conv2d_10[0][0]']           \n",
            "                                                                                                  \n",
            " up_sampling2d_1 (UpSamplin  (None, 64, 64, 512)          0         ['conv2d_11[0][0]']           \n",
            " g2D)                                                                                             \n",
            "                                                                                                  \n",
            " concatenate_1 (Concatenate  (None, 64, 64, 768)          0         ['conv2d_5[0][0]',            \n",
            " )                                                                   'up_sampling2d_1[0][0]']     \n",
            "                                                                                                  \n",
            " conv2d_12 (Conv2D)          (None, 64, 64, 256)          1769728   ['concatenate_1[0][0]']       \n",
            "                                                                                                  \n",
            " conv2d_13 (Conv2D)          (None, 64, 64, 256)          590080    ['conv2d_12[0][0]']           \n",
            "                                                                                                  \n",
            " up_sampling2d_2 (UpSamplin  (None, 128, 128, 256)        0         ['conv2d_13[0][0]']           \n",
            " g2D)                                                                                             \n",
            "                                                                                                  \n",
            " concatenate_2 (Concatenate  (None, 128, 128, 384)        0         ['conv2d_3[0][0]',            \n",
            " )                                                                   'up_sampling2d_2[0][0]']     \n",
            "                                                                                                  \n",
            " conv2d_14 (Conv2D)          (None, 128, 128, 128)        442496    ['concatenate_2[0][0]']       \n",
            "                                                                                                  \n",
            " conv2d_15 (Conv2D)          (None, 128, 128, 128)        147584    ['conv2d_14[0][0]']           \n",
            "                                                                                                  \n",
            " up_sampling2d_3 (UpSamplin  (None, 256, 256, 128)        0         ['conv2d_15[0][0]']           \n",
            " g2D)                                                                                             \n",
            "                                                                                                  \n",
            " concatenate_3 (Concatenate  (None, 256, 256, 192)        0         ['conv2d_1[0][0]',            \n",
            " )                                                                   'up_sampling2d_3[0][0]']     \n",
            "                                                                                                  \n",
            " conv2d_16 (Conv2D)          (None, 256, 256, 64)         110656    ['concatenate_3[0][0]']       \n",
            "                                                                                                  \n",
            " conv2d_17 (Conv2D)          (None, 256, 256, 64)         36928     ['conv2d_16[0][0]']           \n",
            "                                                                                                  \n",
            " conv2d_18 (Conv2D)          (None, 256, 256, 1)          65        ['conv2d_17[0][0]']           \n",
            "                                                                                                  \n",
            "==================================================================================================\n",
            "Total params: 31377793 (119.70 MB)\n",
            "Trainable params: 31377793 (119.70 MB)\n",
            "Non-trainable params: 0 (0.00 Byte)\n",
            "__________________________________________________________________________________________________\n"
          ]
        }
      ]
    },
    {
      "cell_type": "code",
      "source": [
        "from tensorflow.keras.preprocessing.image import ImageDataGenerator\n",
        "\n",
        "seed = 24\n",
        "batch_size = 10\n",
        "\n",
        "img_data_gen_args = dict(rotation_range=90,\n",
        "                         width_shift_range=0.3,\n",
        "                         height_shift_range=0.3,\n",
        "                         shear_range=0.5,\n",
        "                         zoom_range=0.3,\n",
        "                         horizontal_flip=True,\n",
        "                         vertical_flip=True,\n",
        "                         fill_mode='reflect')\n",
        "\n",
        "mask_data_gen_args = dict(rotation_range=90,\n",
        "                          width_shift_range=0.3,\n",
        "                          height_shift_range=0.3,\n",
        "                          shear_range=0.5,\n",
        "                          zoom_range=0.3,\n",
        "                          horizontal_flip=True,\n",
        "                          vertical_flip=True,\n",
        "                          fill_mode='reflect',\n",
        "                          preprocessing_function = lambda x: np.where(x>0, 1, 0).astype(x.dtype)\n",
        "image_data_generator = ImageDataGenerator(**img_data_gen_args)\n",
        "image_data_generator.fit(X_train, augment=True, seed=seed)\n",
        "\n",
        "image_generator = image_data_generator.flow(X_train, seed=seed, batch_size=batch_size)\n",
        "\n",
        "mask_data_generator = ImageDataGenerator(**mask_data_gen_args)\n",
        "mask_data_generator.fit(y_train, augment=True, seed=seed)\n",
        "mask_generator = mask_data_generator.flow(y_train, seed=seed, batch_size=batch_size)\n",
        "\n",
        "def my_image_mask_generator(image_generator, mask_generator):\n",
        "    train_generator = zip(image_generator, mask_generator)\n",
        "    for (img, mask) in train_generator:\n",
        "        yield (img, mask)\n",
        "\n",
        "my_generator = my_image_mask_generator(image_generator, mask_generator)\n",
        "\n",
        "steps_per_epoch = 3\n",
        "\n",
        "history = model.fit(my_generator, steps_per_epoch=steps_per_epoch, epochs=5)\n"
      ],
      "metadata": {
        "colab": {
          "base_uri": "https://localhost:8080/"
        },
        "id": "wfnLWZy8aOAF",
        "outputId": "636256db-a81c-474e-d7a8-5182fa423f23"
      },
      "execution_count": 5,
      "outputs": [
        {
          "output_type": "stream",
          "name": "stdout",
          "text": [
            "Epoch 1/5\n",
            "3/3 [==============================] - 264s 82s/step - loss: 42.7922 - accuracy: 0.9018\n",
            "Epoch 2/5\n",
            "3/3 [==============================] - 243s 81s/step - loss: 0.4757 - accuracy: 0.8983\n",
            "Epoch 3/5\n",
            "3/3 [==============================] - 248s 83s/step - loss: 0.5756 - accuracy: 0.9063\n",
            "Epoch 4/5\n",
            "3/3 [==============================] - 244s 82s/step - loss: 0.5485 - accuracy: 0.9026\n",
            "Epoch 5/5\n",
            "3/3 [==============================] - 244s 82s/step - loss: 0.4284 - accuracy: 0.9025\n"
          ]
        }
      ]
    },
    {
      "cell_type": "code",
      "source": [
        "test_input = []\n",
        "\n",
        "for dirname, _, filenames in os.walk(test_image_folder):\n",
        "    for filename in filenames:\n",
        "        test_file_img = os.path.join(dirname, filename)\n",
        "\n",
        "        image = cv2.imread(test_file_img,0)\n",
        "        image = cv2.resize(image, (256, 256))\n",
        "\n",
        "        image_features = image.astype('float32') / 255.0\n",
        "        test_input.append(image_features)\n",
        "\n",
        "test_input = np.expand_dims(test_input, axis=-1)\n",
        "Xtest = np.array(test_input)"
      ],
      "metadata": {
        "id": "P90XATt4jxHI"
      },
      "execution_count": 6,
      "outputs": []
    },
    {
      "cell_type": "code",
      "source": [
        "from PIL import Image\n",
        "y_pred = model.predict(Xtest,batch_size= 5)"
      ],
      "metadata": {
        "colab": {
          "base_uri": "https://localhost:8080/"
        },
        "id": "VGhSY1DKFQUl",
        "outputId": "a6d91d8b-29c6-4580-ee1d-2fc80b9d4970"
      },
      "execution_count": 13,
      "outputs": [
        {
          "output_type": "stream",
          "name": "stdout",
          "text": [
            "12/12 [==============================] - 142s 12s/step\n"
          ]
        }
      ]
    },
    {
      "cell_type": "code",
      "source": [
        "output_folder = '/content/drive/MyDrive/image pred final'\n",
        "\n",
        "if not os.path.exists(output_folder):\n",
        "    os.makedirs(output_folder)\n",
        "for i, image in enumerate(y_pred):\n",
        "\n",
        "    image = (image * 255).astype(np.uint8)\n",
        "\n",
        "    output_path = os.path.join(output_folder, f'predicted_image_{i}.png')\n",
        "    cv2.imwrite(output_path, image)"
      ],
      "metadata": {
        "id": "4kFKOsmZo2OY"
      },
      "execution_count": 20,
      "outputs": []
    },
    {
      "cell_type": "code",
      "source": [
        "import os\n",
        "import numpy as np\n",
        "from PIL import Image\n",
        "from skimage.metrics import adapted_rand_error, contingency_table, variation_of_information\n",
        "\n",
        "def load_images_from_folder(folder):\n",
        "    images = []\n",
        "    for filename in sorted(os.listdir(folder)):\n",
        "        img_path = os.path.join(folder, filename)\n",
        "        img = Image.open(img_path)\n",
        "        img = img.resize((256, 256))\n",
        "        img = np.array(img)\n",
        "        images.append(img)\n",
        "    return images\n",
        "\n",
        "ground_truth_folder = '/content/drive/MyDrive/test'\n",
        "predicted_folder = '/content/drive/MyDrive/image pred final'\n",
        "\n",
        "ground_truth_images = load_images_from_folder(ground_truth_folder)\n",
        "predicted_images = load_images_from_folder(predicted_folder)\n",
        "\n",
        "scores = []\n",
        "\n",
        "for y_true, y_pred in zip(ground_truth_images, predicted_images):\n",
        "    y_true = y_true / 255\n",
        "    y_pred = y_pred / 255\n",
        "from skimage.metrics import structural_similarity as ssim\n",
        "def compare_images_ssim(y_true, y_pred):\n",
        "    grayA = y_true.astype(np.uint8)\n",
        "    grayB = y_pred.astype(np.uint8)\n",
        "\n",
        "\n",
        "    # Compute SSIM between two images\n",
        "    score, diff = ssim(grayA, grayB, full=True)\n",
        "    return score\n",
        "\n",
        "scores.append(compare_images_ssim(y_true, y_pred))\n",
        "print(f\"Score: {np.mean(scores):.4f}\")\n"
      ],
      "metadata": {
        "colab": {
          "base_uri": "https://localhost:8080/"
        },
        "id": "oh5M105KX_PA",
        "outputId": "64bf08f1-5b24-4589-fa60-6055e148f3fe"
      },
      "execution_count": 25,
      "outputs": [
        {
          "output_type": "stream",
          "name": "stdout",
          "text": [
            "Score: 0.3089\n"
          ]
        }
      ]
    }
  ]
}