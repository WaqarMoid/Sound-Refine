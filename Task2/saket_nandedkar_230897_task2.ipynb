{
  "nbformat": 4,
  "nbformat_minor": 0,
  "metadata": {
    "colab": {
      "provenance": []
    },
    "kernelspec": {
      "name": "python3",
      "display_name": "Python 3"
    },
    "language_info": {
      "name": "python"
    }
  },
  "cells": [
    {
      "cell_type": "code",
      "execution_count": 1,
      "metadata": {
        "id": "NYaovGKy50Z0"
      },
      "outputs": [],
      "source": [
        "\n",
        "import numpy as np\n",
        "import zipfile\n",
        "import glob as gb\n",
        "import librosa as lb\n",
        "import os\n",
        "import soundfile as sf"
      ]
    },
    {
      "cell_type": "code",
      "source": [
        "!unzip -uq \"/content/drive/MyDrive/rawdess.zip\" -d \"/content/speech/\" #unzipping the two files and placing them in a folder called speech\n",
        "!unzip -uq \"/content/drive/MyDrive/urbansound.zip\" -d \"/content/speech/\"\n",
        "\n",
        "audio_dir = '/content/speech/urbansound_8k'\n",
        "noise_dir = '/content/speech/ravdess_rewritten_8k'\n",
        "\n",
        "audio_files = gb.glob(os.path.join(audio_dir, '*.wav'))\n",
        "noise_files = gb.glob(os.path.join(noise_dir, '*.wav'))"
      ],
      "metadata": {
        "id": "GBKFVJzODL8y"
      },
      "execution_count": 2,
      "outputs": []
    },
    {
      "cell_type": "code",
      "source": [
        "def newsound(speech_file, noise_file,output_path, sr=22050):\n",
        "             speech, _ = lb.load(speech_file)\n",
        "             noise, _ = lb.load(noise_file)\n",
        "\n",
        "\n",
        "             if len(noise) > len(speech):\n",
        "                noise = noise[:len(speech)]\n",
        "                mixed = speech + noise\n",
        "             else:\n",
        "                  while len(noise) <= len(speech):\n",
        "                        noise = np.concatenate((noise, noise))  # Double the length of noise until it exceeds target_length\n",
        "\n",
        "                  noise=noise[:len(speech)]\n",
        "                  mixed = speech + noise\n",
        "\n",
        "             mixed = mixed / np.max(np.abs(mixed)) #prevents clipping(audio signal exceeds maximum amplitude)\n",
        "\n",
        "             sf.write(output_path, mixed, 22050)\n",
        "\n",
        "\n",
        "\n"
      ],
      "metadata": {
        "id": "UwM1_6NNxGP8"
      },
      "execution_count": 9,
      "outputs": []
    },
    {
      "cell_type": "code",
      "source": [
        "def main(audio_dir, noise_dir):\n",
        "    output_dir = 'mixed_sounds'\n",
        "    os.makedirs(output_dir, exist_ok=True)\n",
        "\n",
        "    for audio_file, noise_file in zip(audio_files, noise_files): #iterates the audio files in pairs\n",
        "        output_path = os.path.join(output_dir, os.path.basename(audio_file))\n",
        "        newsound(audio_file, noise_file, output_path)\n",
        "\n",
        "    with zipfile.ZipFile(\"/content/drive/MyDrive/mixed.zip\", 'w') as zipf:  #zip all the files in the folder\n",
        "        for root, _, files in os.walk(output_dir):\n",
        "            for file in files:\n",
        "                file_path = os.path.join(root, file)\n",
        "                zipf.write(file_path, os.path.relpath(file_path, output_dir))"
      ],
      "metadata": {
        "id": "np5LafOZ4ydp"
      },
      "execution_count": 10,
      "outputs": []
    },
    {
      "cell_type": "code",
      "source": [
        "main(audio_files,noise_files)"
      ],
      "metadata": {
        "id": "H8bMn4XkjyVS"
      },
      "execution_count": 11,
      "outputs": []
    },
    {
      "cell_type": "code",
      "source": [],
      "metadata": {
        "id": "5QySgNFXwzti"
      },
      "execution_count": null,
      "outputs": []
    }
  ]
}