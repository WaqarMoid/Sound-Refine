{
 "cells": [
  {
   "cell_type": "code",
   "execution_count": 62,
   "metadata": {},
   "outputs": [],
   "source": [
    "import os\n",
    "import random\n",
    "\n",
    "def choose_random_file(directory):\n",
    "    files = os.listdir(directory)\n",
    "    files = [f for f in files if os.path.isfile(os.path.join(directory, f))]\n",
    "    random_file = random.choice(files)\n",
    "    return os.path.join(directory, random_file)\n"
   ]
  },
  {
   "cell_type": "code",
   "execution_count": 63,
   "metadata": {},
   "outputs": [],
   "source": [
    "import numpy as np\n",
    "import librosa\n",
    "import soundfile as sf\n",
    "\n",
    "def add_noise(clean_file, noise_file, output_file, noise_level=0.5):\n",
    "    clean_audio, sr = librosa.load(clean_file, sr=None)\n",
    "    noise_audio, _ = librosa.load(noise_file, sr=None)\n",
    "    if len(noise_audio) < len(clean_audio):\n",
    "        clean_audio = clean_audio[:len(noise_audio)]\n",
    "    else:\n",
    "        noise_audio = noise_audio[:len(clean_audio)]\n",
    "    noise_audio *= noise_level\n",
    "    noisy_audio = clean_audio + noise_audio\n",
    "    noisy_audio /= np.max(np.abs(noisy_audio))\n",
    "    output_filename = os.path.splitext(os.path.basename(clean_file))[0] + '_noisy.wav'\n",
    "    output_file = os.path.join(output_folder, output_filename)\n",
    "    sf.write(output_file, noisy_audio, sr)\n",
    "speech_directory = \"ravdess_rewritten_8k/\" #path to the directory where the clean speeches are placed\n",
    "noise_directory = \"urbansound_8k/\"  #path to the directory where the noise files are placed\n",
    "output_folder = \"iter1/\"    #path to the directory where files will be saved\n",
    "\n",
    "for i in range(1001):\n",
    "    clean = choose_random_file(speech_directory)\n",
    "    noise = choose_random_file(noise_directory)\n",
    "    add_noise(clean, noise,output_folder, noise_level=0.5)\n"
   ]
  },
  {
   "cell_type": "code",
   "execution_count": null,
   "metadata": {},
   "outputs": [],
   "source": []
  }
 ],
 "metadata": {
  "kernelspec": {
   "display_name": "Python 3",
   "language": "python",
   "name": "python3"
  },
  "language_info": {
   "codemirror_mode": {
    "name": "ipython",
    "version": 3
   },
   "file_extension": ".py",
   "mimetype": "text/x-python",
   "name": "python",
   "nbconvert_exporter": "python",
   "pygments_lexer": "ipython3",
   "version": "3.12.3"
  }
 },
 "nbformat": 4,
 "nbformat_minor": 2
}
