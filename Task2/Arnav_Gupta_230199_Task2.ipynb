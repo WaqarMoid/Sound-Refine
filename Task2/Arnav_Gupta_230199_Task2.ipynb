{
  "nbformat": 4,
  "nbformat_minor": 0,
  "metadata": {
    "colab": {
      "provenance": []
    },
    "kernelspec": {
      "name": "python3",
      "display_name": "Python 3"
    },
    "language_info": {
      "name": "python"
    }
  },
  "cells": [
    {
      "cell_type": "code",
      "execution_count": 58,
      "metadata": {
        "id": "uKr9PP3Bcjqc"
      },
      "outputs": [],
      "source": [
        "import os\n",
        "import librosa\n",
        "import numpy as np\n",
        "import soundfile as sf\n",
        "from glob import glob"
      ]
    },
    {
      "cell_type": "code",
      "source": [
        "import tensorflow as tf"
      ],
      "metadata": {
        "id": "T5JF2zGXeAwt"
      },
      "execution_count": 59,
      "outputs": []
    },
    {
      "cell_type": "code",
      "source": [
        "!unzip -uq \"/content/drive/MyDrive/datasets/archive.zip\" -d \"/content/speech/\""
      ],
      "metadata": {
        "id": "zZYZZ9V8eCpl"
      },
      "execution_count": 60,
      "outputs": []
    },
    {
      "cell_type": "code",
      "source": [
        "!unzip -uq \"/content/drive/MyDrive/datasets/archive1.zip\" -d \"/content/noise/\""
      ],
      "metadata": {
        "id": "eLCqcgznfcpS"
      },
      "execution_count": 61,
      "outputs": []
    },
    {
      "cell_type": "code",
      "source": [
        "speech_dir = '/content/speech/urbansound_8k'"
      ],
      "metadata": {
        "id": "TIA2xw5Hffbl"
      },
      "execution_count": 62,
      "outputs": []
    },
    {
      "cell_type": "code",
      "source": [
        "noise_dir = '/content/noise/ravdess_rewritten_8k'"
      ],
      "metadata": {
        "id": "sijDmq4ff5kU"
      },
      "execution_count": 63,
      "outputs": []
    },
    {
      "cell_type": "code",
      "source": [
        "speech_files = glob(os.path.join(speech_dir, '*.wav'))\n",
        "noise_files = glob(os.path.join(noise_dir, '*.wav'))"
      ],
      "metadata": {
        "id": "XpH3YnHgf9wz"
      },
      "execution_count": 64,
      "outputs": []
    },
    {
      "cell_type": "code",
      "source": [
        "def mixing(speech_file, noise_file, sr=22050):\n",
        "  speech, _ = librosa.load(speech_file)\n",
        "  noise, _ = librosa.load(noise_file)\n",
        "\n",
        "  min_length = min(len(speech), len(noise))\n",
        "  speech = speech[:min_length]\n",
        "  noise = noise[:min_length]\n",
        "\n",
        "  mixed = noise + speech\n",
        "  mixed = mixed / np.max(np.abs(mixed))\n",
        "  return mixed"
      ],
      "metadata": {
        "id": "f5ZmgV6sgJb2"
      },
      "execution_count": 65,
      "outputs": []
    },
    {
      "cell_type": "code",
      "source": [
        "num_files = 1000\n",
        "sr = 22050\n",
        "output_path = '/content/output1'\n",
        "os.makedirs(output_path, exist_ok=True)"
      ],
      "metadata": {
        "id": "5e3LUCPTzGLl"
      },
      "execution_count": 66,
      "outputs": []
    },
    {
      "cell_type": "code",
      "source": [
        "for i in range(num_files):\n",
        "  speech_file = np.random.choice(speech_files)\n",
        "  noise_file = np.random.choice(noise_files)\n",
        "\n",
        "  mix_audio = mixing(speech_file, noise_file, sr=22050)\n",
        "  output_file = os.path.join(output_path, f'combined_{i+1}.wav')\n",
        "\n",
        "  sf.write(output_file, mix_audio, sr)"
      ],
      "metadata": {
        "id": "L-BDoKzw2mAI"
      },
      "execution_count": 67,
      "outputs": []
    }
  ]
}