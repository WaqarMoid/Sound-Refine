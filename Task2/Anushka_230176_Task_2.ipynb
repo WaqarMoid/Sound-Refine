{
 "cells": [
  {
   "cell_type": "code",
   "execution_count": 18,
   "id": "dbe1522a-61fb-4297-9c51-ee360609d20b",
   "metadata": {},
   "outputs": [],
   "source": [
    "import pandas as pd\n",
    "import numpy as np\n",
    "import librosa\n",
    "import soundfile as sd\n",
    "import os\n",
    "from glob import glob"
   ]
  },
  {
   "cell_type": "code",
   "execution_count": 19,
   "id": "41c99b28-6b4e-4647-8960-798e91f43326",
   "metadata": {},
   "outputs": [],
   "source": [
    "clean_audio='/Users/anushkaanand/Desktop/venv/cleansound'\n",
    "noisy_audio='/Users/anushkaanand/Desktop/venv/noise_8k'\n",
    "final_audio='/Users/anushkaanand/Desktop/venv/finalsound'"
   ]
  },
  {
   "cell_type": "code",
   "execution_count": 20,
   "id": "5ee59ed9-bb02-4e63-ac1c-8116cfb95ee8",
   "metadata": {},
   "outputs": [
    {
     "name": "stdout",
     "output_type": "stream",
     "text": [
      "Found 1440 clean speech files.\n",
      "Found 8732 noise files.\n"
     ]
    }
   ],
   "source": [
    "clean_audio_files = glob(os.path.join(clean_audio, '**/*.wav'), recursive=True)\n",
    "noise_files = glob(os.path.join(noisy_audio, '**/*.wav'), recursive=True)\n",
    "\n",
    "print(f'Found {len(clean_audio_files)} clean speech files.')\n",
    "print(f'Found {len(noise_files)} noise files.')"
   ]
  },
  {
   "cell_type": "code",
   "execution_count": 21,
   "id": "d76a51df-40c6-4ddc-aff3-4fbfb509dd00",
   "metadata": {},
   "outputs": [],
   "source": [
    "def add_noise(clean_signal, noise_signal):\n",
    "    \n",
    "    if len(noise_signal) > len(clean_signal):\n",
    "        noise_signal = noise_signal[:len(clean_signal)]\n",
    "    else:\n",
    "        clean_signal = clean_signal[:len(noise_signal)]\n",
    "    reduced_noise= 0.1*noise_signal\n",
    "    noisy_signal = clean_signal + reduced_noise\n",
    "    return noisy_signal"
   ]
  },
  {
   "cell_type": "code",
   "execution_count": 25,
   "id": "5f1166dd-8bb8-426b-b5a1-f35033bdfd4e",
   "metadata": {},
   "outputs": [],
   "source": [
    "data = {\n",
    "    \"clean_mel_spectrogram\": [],\n",
    "    \"mixed_mel_spectrogram\": []\n",
    "}\n",
    "for i in range(1000):\n",
    "    sr = 22050\n",
    "    n_fft = 2048\n",
    "    hop_length = 512\n",
    "    n_mels = 10\n",
    "\n",
    "    clean_file = np.random.choice(clean_audio_files)\n",
    "    noise_file = np.random.choice(noise_files)\n",
    "    clean_signal, sr = librosa.load(clean_file, sr=None)\n",
    "    noise_signal, _ = librosa.load(noise_file, sr=None)\n",
    "    noisy_signal = add_noise(clean_signal, noise_signal)\n",
    "    clean_mel_spectrogram = librosa.feature.melspectrogram(y=clean_signal, sr=sr, n_fft=n_fft, hop_length=hop_length, n_mels=n_mels)\n",
    "    mixed_mel_spectrogram = librosa.feature.melspectrogram(y=noisy_signal, sr=sr, n_fft=n_fft, hop_length=hop_length, n_mels=n_mels)\n",
    "    \n",
    "    # Convert to log scale\n",
    "    log_clean_mel_spectrogram = librosa.power_to_db(clean_mel_spectrogram)\n",
    "    log_mixed_mel_spectrogram = librosa.power_to_db(mixed_mel_spectrogram)\n",
    "    \n",
    "    # Append the data to the dictionary\n",
    "    data[\"clean_mel_spectrogram\"].append(log_clean_mel_spectrogram.tolist())\n",
    "    data[\"mixed_mel_spectrogram\"].append(log_mixed_mel_spectrogram.tolist())\n",
    "    \n",
    "    output_file = os.path.join(final_audio, f'mixed_sample_{i:04d}.wav')\n",
    "    sd.write(output_file, noisy_signal,sr)"
   ]
  },
  {
   "cell_type": "code",
   "execution_count": null,
   "id": "247d98a6-d0ad-475f-8be1-c1861b0ac138",
   "metadata": {},
   "outputs": [],
   "source": []
  }
 ],
 "metadata": {
  "kernelspec": {
   "display_name": "Python 3 (ipykernel)",
   "language": "python",
   "name": "python3"
  },
  "language_info": {
   "codemirror_mode": {
    "name": "ipython",
    "version": 3
   },
   "file_extension": ".py",
   "mimetype": "text/x-python",
   "name": "python",
   "nbconvert_exporter": "python",
   "pygments_lexer": "ipython3",
   "version": "3.12.2"
  }
 },
 "nbformat": 4,
 "nbformat_minor": 5
}
